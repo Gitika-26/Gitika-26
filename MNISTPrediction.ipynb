{
  "cells": [
    {
      "cell_type": "markdown",
      "metadata": {
        "id": "view-in-github",
        "colab_type": "text"
      },
      "source": [
        "<a href=\"https://colab.research.google.com/github/Gitika-26/Gitika-26/blob/main/MNISTPrediction.ipynb\" target=\"_parent\"><img src=\"https://colab.research.google.com/assets/colab-badge.svg\" alt=\"Open In Colab\"/></a>"
      ]
    },
    {
      "cell_type": "code",
      "execution_count": 1,
      "metadata": {
        "colab": {
          "base_uri": "https://localhost:8080/",
          "height": 541
        },
        "id": "iBWV0_a_wMKE",
        "outputId": "8b86ff02-37f3-4fd4-d358-4f871ab81bb4"
      },
      "outputs": [
        {
          "output_type": "stream",
          "name": "stderr",
          "text": [
            "/usr/local/lib/python3.10/dist-packages/sklearn/datasets/_openml.py:968: FutureWarning: The default value of `parser` will change from `'liac-arff'` to `'auto'` in 1.4. You can set `parser='auto'` to silence this warning. Therefore, an `ImportError` will be raised from 1.4 if the dataset is dense and pandas is not installed. Note that the pandas parser may return different data types. See the Notes Section in fetch_openml's API doc for details.\n",
            "  warn(\n"
          ]
        },
        {
          "output_type": "stream",
          "name": "stdout",
          "text": [
            "Shape of X: (70000, 784)\n",
            "Shape of y: (70000,)\n"
          ]
        },
        {
          "output_type": "display_data",
          "data": {
            "text/plain": [
              "<Figure size 640x480 with 1 Axes>"
            ],
            "image/png": "[encoded data removed]"
          },
          "metadata": {}
        }
      ],
      "source": [
        "import numpy as np\n",
        "import matplotlib.pyplot as plt\n",
        "from sklearn.datasets import fetch_openml\n",
        "from sklearn.model_selection import train_test_split, GridSearchCV\n",
        "from sklearn.preprocessing import StandardScaler\n",
        "from sklearn.neighbors import KNeighborsClassifier\n",
        "from sklearn.metrics import classification_report, confusion_matrix\n",
        "from PIL import Image\n",
        "import io\n",
        "\n",
        "# Load the MNIST dataset\n",
        "mnist = fetch_openml('mnist_784', version=1)\n",
        "X, y = mnist.data, mnist.target\n",
        "\n",
        "# Display the shape of the dataset\n",
        "print(f\"Shape of X: {X.shape}\")\n",
        "print(f\"Shape of y: {y.shape}\")\n",
        "\n",
        "# Display a sample digit\n",
        "plt.imshow(X.iloc[0].values.reshape(28, 28), cmap='gray')\n",
        "plt.title(f\"Label: {y[0]}\")\n",
        "plt.show()\n",
        "\n",
        "# Split the data into training and test sets\n",
        "X_train, X_test, y_train, y_test = train_test_split(X, y, test_size=0.2, random_state=42)\n",
        "\n",
        "# Standardize the data\n",
        "scaler = StandardScaler()\n",
        "X_train = scaler.fit_transform(X_train)\n",
        "X_test = scaler.transform(X_test)\n",
        "\n",
        "\n",
        "\n",
        "\n",
        "# Function to preprocess the uploaded image\n",
        "def preprocess_image(image):\n",
        "    # Convert image to grayscale and resize to 28x28\n",
        "    image = image.convert('L')\n",
        "    image = image.resize((28, 28))\n",
        "\n",
        "    # Convert image to numpy array and scale it\n",
        "    image = np.array(image)\n",
        "    image = image / 255.0  # Normalize to [0, 1]\n",
        "\n",
        "    # Flatten the image to match the input format of the model\n",
        "    image = image.flatten().reshape(1, -1)\n",
        "\n",
        "    return image\n",
        "\n"
      ]
    },
    {
      "cell_type": "code",
      "source": [
        "\n",
        "\n",
        "# Create a KNN model\n",
        "knn = KNeighborsClassifier(n_neighbors=3)\n",
        "\n",
        "\n",
        "knn.fit(X_train, y_train)\n",
        "\n",
        "# Make predictions on the test set\n",
        "y_pred = knn.predict(X_test)\n",
        "\n",
        "# Evaluate the model\n",
        "print(\"Classification Report:\")\n",
        "print(classification_report(y_test, y_pred))\n",
        "\n",
        "print(\"Confusion Matrix:\")\n",
        "conf_matrix = confusion_matrix(y_test, y_pred)\n",
        "print(conf_matrix)"
      ],
      "metadata": {
        "id": "UPjNthJ6lu_3",
        "colab": {
          "base_uri": "https://localhost:8080/"
        },
        "outputId": "71314c6a-38c6-4453-9f56-ccec0eb3a1d3"
      },
      "execution_count": 3,
      "outputs": [
        {
          "output_type": "stream",
          "name": "stdout",
          "text": [
            "Classification Report:\n",
            "              precision    recall  f1-score   support\n",
            "\n",
            "           0       0.96      0.98      0.97      1343\n",
            "           1       0.95      0.99      0.97      1600\n",
            "           2       0.95      0.94      0.94      1380\n",
            "           3       0.93      0.95      0.94      1433\n",
            "           4       0.95      0.94      0.94      1295\n",
            "           5       0.95      0.94      0.94      1273\n",
            "           6       0.97      0.97      0.97      1396\n",
            "           7       0.94      0.93      0.93      1503\n",
            "           8       0.97      0.90      0.93      1357\n",
            "           9       0.90      0.92      0.91      1420\n",
            "\n",
            "    accuracy                           0.95     14000\n",
            "   macro avg       0.95      0.95      0.95     14000\n",
            "weighted avg       0.95      0.95      0.95     14000\n",
            "\n",
            "Confusion Matrix:\n",
            "[[1318    0    4    4    0    5   11    0    1    0]\n",
            " [   0 1587    8    0    2    0    1    1    0    1]\n",
            " [  12   16 1298   18    4    4    7   10    8    3]\n",
            " [   3    5   16 1361    2   11    1   14   10   10]\n",
            " [   0   10   13    1 1212    1    3    4    2   49]\n",
            " [   6    2    1   29    7 1198   14    0   11    5]\n",
            " [  16    4    4    1    4    9 1357    0    1    0]\n",
            " [   3   18    7    4   20    1    0 1394    1   55]\n",
            " [  13   17   11   27    6   31    4   12 1220   16]\n",
            " [   5    5    9   15   23    4    0   48    5 1306]]\n"
          ]
        }
      ]
    },
    {
      "cell_type": "code",
      "source": [
        "print(len(X_test), len(y_test), len(y_pred))\n"
      ],
      "metadata": {
        "id": "F-BG-fx7odCk",
        "colab": {
          "base_uri": "https://localhost:8080/"
        },
        "outputId": "a1395216-849a-41ae-9c50-d789d22af602"
      },
      "execution_count": 10,
      "outputs": [
        {
          "output_type": "stream",
          "name": "stdout",
          "text": [
            "14000 14000 14000\n"
          ]
        }
      ]
    },
    {
      "cell_type": "code",
      "source": [
        "def plot_predictions(X_test, y_test, y_pred, n=15):\n",
        "    plt.figure(figsize=(20, 4))\n",
        "    for i in range(n):\n",
        "        print(f\"Processing index {i}\")\n",
        "        if i < len(X_test):\n",
        "            ax = plt.subplot(1, n, i + 1)\n",
        "            plt.imshow(X_test[i].reshape(28, 28), cmap='gray')\n",
        "    plt.tight_layout()\n",
        "    plt.show()\n",
        "\n",
        "plot_predictions(X_test, y_test, y_pred)\n"
      ],
      "metadata": {
        "colab": {
          "base_uri": "https://localhost:8080/",
          "height": 375
        },
        "id": "rVlwL_kduxZ_",
        "outputId": "ac732b41-5ed0-4f4a-b663-fa55ecba13e3"
      },
      "execution_count": 16,
      "outputs": [
        {
          "output_type": "stream",
          "name": "stdout",
          "text": [
            "Processing index 0\n",
            "Processing index 1\n",
            "Processing index 2\n",
            "Processing index 3\n",
            "Processing index 4\n",
            "Processing index 5\n",
            "Processing index 6\n",
            "Processing index 7\n",
            "Processing index 8\n",
            "Processing index 9\n",
            "Processing index 10\n",
            "Processing index 11\n",
            "Processing index 12\n",
            "Processing index 13\n",
            "Processing index 14\n"
          ]
        },
        {
          "output_type": "display_data",
          "data": {
            "text/plain": [
              "<Figure size 2000x400 with 15 Axes>"
            ],
            "image/png": "[encoded data removed]"
          },
          "metadata": {}
        }
      ]
    },
    {
      "cell_type": "code",
      "source": [
        " #Function to preprocess the uploaded image\n",
        "def preprocess_image(image):\n",
        "    # Convert image to grayscale and resize to 28x28\n",
        "    image = image.convert('L')\n",
        "    image = image.resize((28, 28))\n",
        "\n",
        "    # Convert image to numpy array and scale it\n",
        "    image = np.array(image)\n",
        "    image = image / 255.0  # Normalize to [0, 1]\n",
        "\n",
        "    # Flatten the image to match the input format of the model\n",
        "    image = image.flatten().reshape(1, -1)\n",
        "\n",
        "    return image\n",
        "\n",
        "# Function to predict the digit\n",
        "def predict_digit(image):\n",
        "    # Preprocess the image\n",
        "    processed_image = preprocess_image(image)\n",
        "\n",
        "    # Standardize the image using the same scaler used for training\n",
        "    processed_image = scaler.transform(processed_image)\n",
        "\n",
        "    # Predict the digit\n",
        "    prediction = best_knn.predict(processed_image)\n",
        "\n",
        "    return prediction[0]"
      ],
      "metadata": {
        "id": "ENwteiYaosY7"
      },
      "execution_count": 17,
      "outputs": []
    },
    {
      "cell_type": "code",
      "source": [
        "example_image_path = \"C:/Users/phgtk/Datasets/images.png\"\n",
        "example_image = Image.open(example_image_path)\n",
        "predicted_digit = predict_digit(example_image)\n",
        "print(f\"Predicted Digit: {predicted_digit}\")"
      ],
      "metadata": {
        "id": "l2-330ENsYqo"
      },
      "execution_count": null,
      "outputs": []
    },
    {
      "cell_type": "code",
      "source": [],
      "metadata": {
        "id": "gF2nmV1_zR7c"
      },
      "execution_count": null,
      "outputs": []
    }
  ],
  "metadata": {
    "colab": {
      "provenance": [],
      "authorship_tag": "ABX9TyNn7eJd7xQlt2bAI6/SOK5b",
      "include_colab_link": true
    },
    "kernelspec": {
      "display_name": "Python 3",
      "name": "python3"
    },
    "language_info": {
      "name": "python"
    }
  },
  "nbformat": 4,
  "nbformat_minor": 0
}